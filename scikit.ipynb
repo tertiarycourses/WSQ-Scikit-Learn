{
  "nbformat": 4,
  "nbformat_minor": 0,
  "metadata": {
    "colab": {
      "name": "scikit.ipynb",
      "provenance": []
    },
    "kernelspec": {
      "name": "python3",
      "display_name": "Python 3"
    },
    "accelerator": "GPU"
  },
  "cells": [
    {
      "cell_type": "markdown",
      "metadata": {
        "id": "9lCWEhqBRvrQ",
        "colab_type": "text"
      },
      "source": [
        "# Topic 1  Overview of Machine Learning and Scikit Learn"
      ]
    },
    {
      "cell_type": "code",
      "metadata": {
        "id": "lxIv8Lw2RCa7",
        "colab_type": "code",
        "colab": {}
      },
      "source": [
        "import sklearn\n",
        "from sklearn import datasets"
      ],
      "execution_count": 0,
      "outputs": []
    },
    {
      "cell_type": "markdown",
      "metadata": {
        "id": "mYQ6_65PR7AM",
        "colab_type": "text"
      },
      "source": [
        "# Topic 2 Classification"
      ]
    },
    {
      "cell_type": "markdown",
      "metadata": {
        "id": "qVReRW7FSBqm",
        "colab_type": "text"
      },
      "source": [
        "## Step 1: Prepare the Data"
      ]
    },
    {
      "cell_type": "markdown",
      "metadata": {
        "id": "FIOjxDL5ZD43",
        "colab_type": "text"
      },
      "source": [
        "### Import Data"
      ]
    },
    {
      "cell_type": "code",
      "metadata": {
        "id": "5drY2ePVRu2J",
        "colab_type": "code",
        "colab": {}
      },
      "source": [
        "# Load Iris dataset\n",
        "import pandas as pd\n",
        "dataset_path = \"https://raw.githubusercontent.com/pandas-dev/pandas/master/pandas/tests/data/iris.csv\"\n",
        "                     \n",
        "X = pd.read_csv(dataset_path)\n",
        "X"
      ],
      "execution_count": 0,
      "outputs": []
    },
    {
      "cell_type": "markdown",
      "metadata": {
        "id": "uvBNfoArZHJE",
        "colab_type": "text"
      },
      "source": [
        "### Split the Features and Target"
      ]
    },
    {
      "cell_type": "code",
      "metadata": {
        "id": "-WWug_KiSG1R",
        "colab_type": "code",
        "colab": {}
      },
      "source": [
        "X = X.dropna()\n",
        "y = X.pop('Name')\n",
        "y"
      ],
      "execution_count": 0,
      "outputs": []
    },
    {
      "cell_type": "markdown",
      "metadata": {
        "id": "1g2xa1AfZLOc",
        "colab_type": "text"
      },
      "source": [
        "### Encode the Label"
      ]
    },
    {
      "cell_type": "code",
      "metadata": {
        "id": "-NHVS85_XwmI",
        "colab_type": "code",
        "colab": {}
      },
      "source": [
        "from sklearn.preprocessing import LabelEncoder\n",
        "le = LabelEncoder()\n",
        "y = le.fit_transform(y)\n",
        "y"
      ],
      "execution_count": 0,
      "outputs": []
    },
    {
      "cell_type": "markdown",
      "metadata": {
        "id": "g26os1ArZUP2",
        "colab_type": "text"
      },
      "source": [
        "### Split and Randomize Training and Testing Dataset"
      ]
    },
    {
      "cell_type": "code",
      "metadata": {
        "id": "pZmIM1dWSJoZ",
        "colab_type": "code",
        "colab": {}
      },
      "source": [
        "# Split and Randomize the data\n",
        "from sklearn.model_selection import train_test_split\n",
        "\n",
        "X_train,X_test,y_train,y_test = train_test_split(X,y,test_size=0.3,random_state=100)"
      ],
      "execution_count": 0,
      "outputs": []
    },
    {
      "cell_type": "code",
      "metadata": {
        "id": "ngjgrhKVSLR7",
        "colab_type": "code",
        "colab": {}
      },
      "source": [
        "X_train"
      ],
      "execution_count": 0,
      "outputs": []
    },
    {
      "cell_type": "code",
      "metadata": {
        "id": "CctTFPLPSMoY",
        "colab_type": "code",
        "colab": {}
      },
      "source": [
        "y_train"
      ],
      "execution_count": 0,
      "outputs": []
    },
    {
      "cell_type": "markdown",
      "metadata": {
        "id": "RaN5jg-MSSZa",
        "colab_type": "text"
      },
      "source": [
        "## Step 2 Define the Model"
      ]
    },
    {
      "cell_type": "code",
      "metadata": {
        "id": "w7TCz6bzSP1J",
        "colab_type": "code",
        "colab": {}
      },
      "source": [
        "# KNN Classifier\n",
        "\n",
        "from sklearn.neighbors import KNeighborsClassifier\n",
        "clf = KNeighborsClassifier(n_neighbors=5)"
      ],
      "execution_count": 0,
      "outputs": []
    },
    {
      "cell_type": "markdown",
      "metadata": {
        "id": "2vNTifjwSWyQ",
        "colab_type": "text"
      },
      "source": [
        "## Step 3 Train the Model"
      ]
    },
    {
      "cell_type": "code",
      "metadata": {
        "id": "wIrcgqKMSUjx",
        "colab_type": "code",
        "colab": {}
      },
      "source": [
        "clf.fit(X_train,y_train)"
      ],
      "execution_count": 0,
      "outputs": []
    },
    {
      "cell_type": "markdown",
      "metadata": {
        "id": "mrXm1SeNSa5Z",
        "colab_type": "text"
      },
      "source": [
        "## Step 4 Evaluate the Model"
      ]
    },
    {
      "cell_type": "code",
      "metadata": {
        "id": "qNM5eaPmSXNx",
        "colab_type": "code",
        "colab": {}
      },
      "source": [
        "clf.score(X_test,y_test)"
      ],
      "execution_count": 0,
      "outputs": []
    },
    {
      "cell_type": "markdown",
      "metadata": {
        "id": "xzWZVKCDSz7l",
        "colab_type": "text"
      },
      "source": [
        "## Step 5 Save the Model"
      ]
    },
    {
      "cell_type": "code",
      "metadata": {
        "id": "ykGk7YM0Sy37",
        "colab_type": "code",
        "colab": {}
      },
      "source": [
        "from sklearn.externals import joblib\n",
        "joblib.dump(clf, 'iris.pkl') "
      ],
      "execution_count": 0,
      "outputs": []
    },
    {
      "cell_type": "markdown",
      "metadata": {
        "id": "yjs2GBDKcBMc",
        "colab_type": "text"
      },
      "source": [
        ""
      ]
    },
    {
      "cell_type": "markdown",
      "metadata": {
        "id": "So3J1JgDS5V3",
        "colab_type": "text"
      },
      "source": [
        "## Step 6 Load the Model for Inference"
      ]
    },
    {
      "cell_type": "code",
      "metadata": {
        "id": "69j2g_0TS2rc",
        "colab_type": "code",
        "colab": {}
      },
      "source": [
        "from sklearn.externals import joblib\n",
        "clf2 = joblib.load('iris.pkl')"
      ],
      "execution_count": 0,
      "outputs": []
    },
    {
      "cell_type": "code",
      "metadata": {
        "id": "xmd9Q8oQS64a",
        "colab_type": "code",
        "colab": {}
      },
      "source": [
        "import numpy as np\n",
        "\n",
        "X_new = np.array([[6.7,3.1,4.7,1.5]])\n",
        "y = clf2.predict(X_new)\n",
        "\n",
        "label = {0:'sentosa',1:'versicolor',2:'virginica'}\n",
        "print('The flower is ',label[y[0]])"
      ],
      "execution_count": 0,
      "outputs": []
    },
    {
      "cell_type": "markdown",
      "metadata": {
        "id": "0kkkbueKSk8S",
        "colab_type": "text"
      },
      "source": [
        "## Ex: Classifiers"
      ]
    },
    {
      "cell_type": "code",
      "metadata": {
        "id": "h_9K-GXYkEsi",
        "colab_type": "code",
        "colab": {}
      },
      "source": [
        "# Logistic Regression Classifier\n",
        "\n",
        "from sklearn.linear_model import LogisticRegression \n",
        "clf = LogisticRegression()\n",
        "clf.fit(X_train,y_train)\n",
        "clf.score(X_test,y_test)"
      ],
      "execution_count": 0,
      "outputs": []
    },
    {
      "cell_type": "code",
      "metadata": {
        "id": "KF5O1LDiSit1",
        "colab_type": "code",
        "colab": {}
      },
      "source": [
        "# SVM Classifier\n",
        "\n",
        "from sklearn.svm import SVC \n",
        "clf = SVC()\n",
        "clf.fit(X_train,y_train)\n",
        "clf.score(X_test,y_test)"
      ],
      "execution_count": 0,
      "outputs": []
    },
    {
      "cell_type": "code",
      "metadata": {
        "id": "wP-vG7l4Sm4D",
        "colab_type": "code",
        "colab": {}
      },
      "source": [
        "# Guassian Navie Bayes Classifer\n",
        "\n",
        "from sklearn.naive_bayes import GaussianNB\n",
        "clf = GaussianNB()\n",
        "clf.fit(X_train,y_train)\n",
        "clf.score(X_test,y_test)"
      ],
      "execution_count": 0,
      "outputs": []
    },
    {
      "cell_type": "code",
      "metadata": {
        "id": "ipHb9W8wSqUF",
        "colab_type": "code",
        "colab": {}
      },
      "source": [
        "# Decision Tree Classifer\n",
        "\n",
        "from sklearn.tree import DecisionTreeClassifier\n",
        "clf = DecisionTreeClassifier()\n",
        "clf.fit(X_train,y_train)\n",
        "clf.score(X_test,y_test)"
      ],
      "execution_count": 0,
      "outputs": []
    },
    {
      "cell_type": "code",
      "metadata": {
        "id": "poHC_FrSSoy9",
        "colab_type": "code",
        "colab": {}
      },
      "source": [
        "# SGD Classifer\n",
        "\n",
        "from sklearn.linear_model import SGDClassifier\n",
        "clf = SGDClassifier()\n",
        "clf.fit(X_train,y_train)\n",
        "clf.score(X_test,y_test)"
      ],
      "execution_count": 0,
      "outputs": []
    },
    {
      "cell_type": "markdown",
      "metadata": {
        "id": "ygbWV3AJSuhH",
        "colab_type": "text"
      },
      "source": [
        "## Ensemble Methods"
      ]
    },
    {
      "cell_type": "markdown",
      "metadata": {
        "id": "QX8dJhTGpA4R",
        "colab_type": "text"
      },
      "source": [
        "### Bagging"
      ]
    },
    {
      "cell_type": "code",
      "metadata": {
        "id": "0dspVnRMSry_",
        "colab_type": "code",
        "colab": {}
      },
      "source": [
        "# Random Forest Classifier\n",
        "\n",
        "from sklearn.ensemble import RandomForestClassifier\n",
        "\n",
        "clf = RandomForestClassifier()\n",
        "clf.fit(X_train,y_train)\n",
        "clf.score(X_test,y_test)"
      ],
      "execution_count": 0,
      "outputs": []
    },
    {
      "cell_type": "markdown",
      "metadata": {
        "id": "bqBhTJ8Huh46",
        "colab_type": "text"
      },
      "source": [
        "### Boosting"
      ]
    },
    {
      "cell_type": "code",
      "metadata": {
        "id": "nnggSRwoSxBQ",
        "colab_type": "code",
        "colab": {}
      },
      "source": [
        "# Gradient Boosting Classifier\n",
        "\n",
        "from sklearn.ensemble import GradientBoostingClassifier\n",
        "\n",
        "clf = GradientBoostingClassifier()\n",
        "clf.fit(X_train,y_train)\n",
        "clf.score(X_test,y_test)"
      ],
      "execution_count": 0,
      "outputs": []
    },
    {
      "cell_type": "code",
      "metadata": {
        "id": "p3W8A0-LyR_D",
        "colab_type": "code",
        "colab": {}
      },
      "source": [
        "# AdaBoosting Classifier\n",
        "\n",
        "from sklearn.ensemble import AdaBoostClassifier\n",
        "\n",
        "clf = AdaBoostClassifier()\n",
        "clf.fit(X_train,y_train)\n",
        "clf.score(X_test,y_test)"
      ],
      "execution_count": 0,
      "outputs": []
    },
    {
      "cell_type": "markdown",
      "metadata": {
        "id": "r43vOAxXwlZb",
        "colab_type": "text"
      },
      "source": [
        "### Stacking"
      ]
    },
    {
      "cell_type": "code",
      "metadata": {
        "id": "ZF6SQwiwwFxl",
        "colab_type": "code",
        "colab": {}
      },
      "source": [
        "from sklearn.linear_model import LogisticRegression\n",
        "from sklearn.naive_bayes import GaussianNB\n",
        "from sklearn.ensemble import RandomForestClassifier, VotingClassifier\n",
        "clf1 = LogisticRegression()\n",
        "clf2 = RandomForestClassifier(n_estimators=50, random_state=1)\n",
        "clf3 = GaussianNB()\n",
        "\n",
        "clf = VotingClassifier(estimators=[('lr', clf1), ('rf', clf2), ('gnb', clf3)], voting='hard')\n",
        "clf.fit(X_train,y_train)\n",
        "clf.score(X_test,y_test)"
      ],
      "execution_count": 0,
      "outputs": []
    },
    {
      "cell_type": "markdown",
      "metadata": {
        "id": "3rJToRg9S992",
        "colab_type": "text"
      },
      "source": [
        "## Ex: Emsemble Methods"
      ]
    },
    {
      "cell_type": "code",
      "metadata": {
        "id": "PI5-St7ZS8MO",
        "colab_type": "code",
        "colab": {}
      },
      "source": [
        "# Load Iris dataset\n",
        "import pandas as pd\n",
        "dataset_path = \"https://archive.ics.uci.edu/ml/machine-learning-databases/wine-quality/winequality-red.csv\"\n",
        "                     \n",
        "X = pd.read_csv(dataset_path,sep=';')\n",
        "X\n"
      ],
      "execution_count": 0,
      "outputs": []
    },
    {
      "cell_type": "code",
      "metadata": {
        "id": "Ek8UfRBHex5U",
        "colab_type": "code",
        "colab": {}
      },
      "source": [
        "X = X.dropna()\n",
        "y = X.pop('quality')\n",
        "y"
      ],
      "execution_count": 0,
      "outputs": []
    },
    {
      "cell_type": "code",
      "metadata": {
        "id": "lZRDf9b_hVKe",
        "colab_type": "code",
        "colab": {}
      },
      "source": [
        "# Split and Randomize the data\n",
        "from sklearn.model_selection import train_test_split\n",
        "\n",
        "X_train,X_test,y_train,y_test = train_test_split(X,y,test_size=0.3,random_state=100)"
      ],
      "execution_count": 0,
      "outputs": []
    },
    {
      "cell_type": "code",
      "metadata": {
        "id": "2l44kAt0TGZf",
        "colab_type": "code",
        "colab": {}
      },
      "source": [
        "# Decision Tree Classifer\n",
        "\n",
        "from sklearn import tree\n",
        "clf = tree.DecisionTreeClassifier()\n",
        "clf.fit(X_train,y_train)\n",
        "clf.score(X_test,y_test)"
      ],
      "execution_count": 0,
      "outputs": []
    },
    {
      "cell_type": "code",
      "metadata": {
        "id": "llcDndTKTHjO",
        "colab_type": "code",
        "colab": {}
      },
      "source": [
        "# Random Forest Classifier\n",
        "\n",
        "from sklearn.ensemble import RandomForestClassifier\n",
        "\n",
        "clf = RandomForestClassifier()\n",
        "clf.fit(X_train,y_train)\n",
        "clf.score(X_test,y_test)"
      ],
      "execution_count": 0,
      "outputs": []
    },
    {
      "cell_type": "code",
      "metadata": {
        "id": "Wxk4gAT5TJsh",
        "colab_type": "code",
        "colab": {}
      },
      "source": [
        "# Gradient Boosting Tree Classifier\n",
        "\n",
        "from sklearn.ensemble import GradientBoostingClassifier\n",
        "\n",
        "clf = GradientBoostingClassifier()\n",
        "clf.fit(X_train,y_train)\n",
        "clf.score(X_test,y_test)"
      ],
      "execution_count": 0,
      "outputs": []
    },
    {
      "cell_type": "code",
      "metadata": {
        "id": "HZmuvpbZyJC3",
        "colab_type": "code",
        "colab": {}
      },
      "source": [
        "from sklearn.linear_model import LogisticRegression\n",
        "from sklearn.naive_bayes import GaussianNB\n",
        "from sklearn.ensemble import RandomForestClassifier, VotingClassifier\n",
        "clf1 = LogisticRegression()\n",
        "clf2 = RandomForestClassifier(n_estimators=50, random_state=1)\n",
        "clf3 = GaussianNB()\n",
        "\n",
        "clf = VotingClassifier(estimators=[('lr', clf1), ('rf', clf2), ('gnb', clf3)], voting='hard')\n",
        "clf.fit(X_train,y_train)\n",
        "clf.score(X_test,y_test)"
      ],
      "execution_count": 0,
      "outputs": []
    },
    {
      "cell_type": "code",
      "metadata": {
        "id": "IOKva-Jnh6et",
        "colab_type": "code",
        "colab": {}
      },
      "source": [
        "x = X_test.iloc[4:5,]\n",
        "print('The wine quality is ', clf.predict(x)[0])"
      ],
      "execution_count": 0,
      "outputs": []
    },
    {
      "cell_type": "markdown",
      "metadata": {
        "id": "YeIFDTHuTMkR",
        "colab_type": "text"
      },
      "source": [
        "## Confusion Matrix"
      ]
    },
    {
      "cell_type": "code",
      "metadata": {
        "id": "J94RjKNpTLIr",
        "colab_type": "code",
        "colab": {}
      },
      "source": [
        "from sklearn.metrics import confusion_matrix\n",
        "y_true = [\"cat\", \"ant\", \"cat\", \"cat\", \"ant\", \"bird\"]\n",
        "y_pred = [\"ant\", \"ant\", \"cat\", \"cat\", \"ant\", \"cat\"]\n",
        "confusion_matrix(y_true, y_pred, labels=[\"ant\", \"bird\", \"cat\"])"
      ],
      "execution_count": 0,
      "outputs": []
    },
    {
      "cell_type": "markdown",
      "metadata": {
        "id": "jIKJ5dqmTRWA",
        "colab_type": "text"
      },
      "source": [
        "## Ex: Confusion Matrix"
      ]
    },
    {
      "cell_type": "code",
      "metadata": {
        "id": "_vCkcohpkzej",
        "colab_type": "code",
        "colab": {}
      },
      "source": [
        "# Load Iris dataset\n",
        "import pandas as pd\n",
        "dataset_path = \"https://raw.githubusercontent.com/pandas-dev/pandas/master/pandas/tests/data/iris.csv\"\n",
        "                     \n",
        "X = pd.read_csv(dataset_path)\n",
        "\n",
        "X = X.dropna()\n",
        "y = X.pop('Name')\n",
        "\n",
        "from sklearn.preprocessing import LabelEncoder\n",
        "le = LabelEncoder()\n",
        "y = le.fit_transform(y)\n",
        "\n",
        "from sklearn.model_selection import train_test_split\n",
        "\n",
        "X_train,X_test,y_train,y_test = train_test_split(X,y,test_size=0.3,random_state=100)"
      ],
      "execution_count": 0,
      "outputs": []
    },
    {
      "cell_type": "code",
      "metadata": {
        "id": "HLB043QXTUY5",
        "colab_type": "code",
        "colab": {}
      },
      "source": [
        "# KNN Classifier\n",
        "\n",
        "from sklearn import neighbors\n",
        "clf = neighbors.KNeighborsClassifier()\n",
        "clf.fit(X_train,y_train)\n",
        "\n",
        "y_pred = clf.predict(X_test)\n",
        "confusion_matrix(y_test,y_pred)"
      ],
      "execution_count": 0,
      "outputs": []
    },
    {
      "cell_type": "code",
      "metadata": {
        "id": "7LNtjwpXlbcR",
        "colab_type": "code",
        "colab": {}
      },
      "source": [
        "# Logistic Regression Classifier\n",
        "\n",
        "from sklearn.linear_model import LogisticRegression \n",
        "clf = LogisticRegression()\n",
        "clf.fit(X_train,y_train)\n",
        "\n",
        "y_pred = clf.predict(X_test)\n",
        "confusion_matrix(y_test,y_pred)"
      ],
      "execution_count": 0,
      "outputs": []
    },
    {
      "cell_type": "code",
      "metadata": {
        "id": "wJUCFqMsTNGQ",
        "colab_type": "code",
        "colab": {}
      },
      "source": [
        "# SVM Classifier\n",
        "\n",
        "from sklearn import svm \n",
        "clf = svm.SVC()\n",
        "clf.fit(X_train,y_train)\n",
        "\n",
        "y_pred = clf.predict(X_test)\n",
        "confusion_matrix(y_test,y_pred)"
      ],
      "execution_count": 0,
      "outputs": []
    },
    {
      "cell_type": "code",
      "metadata": {
        "id": "2O2BUMnFlowv",
        "colab_type": "code",
        "colab": {}
      },
      "source": [
        "# GNB Classifier\n",
        "\n",
        "from sklearn.naive_bayes import GaussianNB\n",
        "clf = GaussianNB()\n",
        "clf.fit(X_train,y_train)\n",
        "\n",
        "y_pred = clf.predict(X_test)\n",
        "confusion_matrix(y_test,y_pred)"
      ],
      "execution_count": 0,
      "outputs": []
    },
    {
      "cell_type": "code",
      "metadata": {
        "id": "fUaD7KeAmLTy",
        "colab_type": "code",
        "colab": {}
      },
      "source": [
        "# Decision Tree Classifer\n",
        "\n",
        "from sklearn.tree import DecisionTreeClassifier\n",
        "clf = DecisionTreeClassifier()\n",
        "clf.fit(X_train,y_train)\n",
        "\n",
        "y_pred = clf.predict(X_test)\n",
        "confusion_matrix(y_test,y_pred)"
      ],
      "execution_count": 0,
      "outputs": []
    },
    {
      "cell_type": "code",
      "metadata": {
        "id": "7W0xtvMqmQye",
        "colab_type": "code",
        "colab": {}
      },
      "source": [
        "# SGD Classifer\n",
        "\n",
        "from sklearn.linear_model import SGDClassifier\n",
        "clf = SGDClassifier()\n",
        "clf.fit(X_train,y_train)\n",
        "\n",
        "y_pred = clf.predict(X_test)\n",
        "confusion_matrix(y_test,y_pred)"
      ],
      "execution_count": 0,
      "outputs": []
    },
    {
      "cell_type": "code",
      "metadata": {
        "id": "uiparCHLTVt0",
        "colab_type": "code",
        "colab": {}
      },
      "source": [
        "from sklearn.metrics import confusion_matrix\n",
        "\n",
        "y_pred = clf.predict(X_test)\n",
        "confusion_matrix(y_test,y_pred)"
      ],
      "execution_count": 0,
      "outputs": []
    },
    {
      "cell_type": "markdown",
      "metadata": {
        "id": "QSLjmyCzvyEt",
        "colab_type": "text"
      },
      "source": [
        "## Accuracy, Precision, Recall, F1 Scores"
      ]
    },
    {
      "cell_type": "code",
      "metadata": {
        "id": "8DpmGY-DxW_n",
        "colab_type": "code",
        "colab": {}
      },
      "source": [
        "# Load Iris dataset\n",
        "import pandas as pd\n",
        "dataset_path = \"https://raw.githubusercontent.com/pandas-dev/pandas/master/pandas/tests/data/iris.csv\"\n",
        "                     \n",
        "X = pd.read_csv(dataset_path)\n",
        "\n",
        "X = X.dropna()\n",
        "y = X.pop('Name')\n",
        "\n",
        "from sklearn.preprocessing import LabelEncoder\n",
        "le = LabelEncoder()\n",
        "y = le.fit_transform(y)\n",
        "y[y==2]=0\n",
        "\n",
        "from sklearn.model_selection import train_test_split\n",
        "\n",
        "X_train,X_test,y_train,y_test = train_test_split(X,y,test_size=0.3,random_state=100)"
      ],
      "execution_count": 0,
      "outputs": []
    },
    {
      "cell_type": "code",
      "metadata": {
        "id": "q9umidwWxcpR",
        "colab_type": "code",
        "colab": {}
      },
      "source": [
        "# Load Wine Quality dataset\n",
        "\n",
        "import pandas as pd\n",
        "dataset_path = \"https://archive.ics.uci.edu/ml/machine-learning-databases/wine-quality/winequality-red.csv\"\n",
        "\n",
        "X = pd.read_csv(dataset_path,sep=\";\")\n",
        "\n",
        "X = X.dropna()\n",
        "y = X.pop('quality')\n",
        "\n",
        "y[y<6]=0\n",
        "y[y>=6]=1\n",
        "\n",
        "from sklearn.model_selection import train_test_split\n",
        "\n",
        "X_train,X_test,y_train,y_test = train_test_split(X,y,test_size=0.3,random_state=100)\n",
        "y_train"
      ],
      "execution_count": 0,
      "outputs": []
    },
    {
      "cell_type": "code",
      "metadata": {
        "id": "mMj0mD84TfNP",
        "colab_type": "code",
        "colab": {}
      },
      "source": [
        "# from sklearn.metrics import accuracy_score,precision_score,recall_score,f1_score\n",
        "\n",
        "from sklearn import neighbors\n",
        "clf = neighbors.KNeighborsClassifier()\n",
        "clf.fit(X_train,y_train)\n",
        "\n",
        "y_pred = clf.predict(X_test)\n",
        "print('Accuracy = ',accuracy_score(y_test,y_pred))\n",
        "print('Precision = ',precision_score(y_test,y_pred))\n",
        "print('Recall = ',recall_score(y_test,y_pred))\n",
        "print('F1 Score = ',f1_score(y_test,y_pred))"
      ],
      "execution_count": 0,
      "outputs": []
    },
    {
      "cell_type": "code",
      "metadata": {
        "id": "j-1J30adTjRo",
        "colab_type": "code",
        "colab": {}
      },
      "source": [
        "# Logistic Regression Classifier\n",
        "\n",
        "from sklearn.linear_model import LogisticRegression \n",
        "clf = LogisticRegression()\n",
        "clf.fit(X_train,y_train)\n",
        "\n",
        "y_pred = clf.predict(X_test)\n",
        "print('Accuracy = ',accuracy_score(y_test,y_pred))\n",
        "print('Precision = ',precision_score(y_test,y_pred))\n",
        "print('Recall = ',recall_score(y_test,y_pred))\n",
        "print('F1 Score = ',f1_score(y_test,y_pred))"
      ],
      "execution_count": 0,
      "outputs": []
    },
    {
      "cell_type": "code",
      "metadata": {
        "id": "qvdxJwfiyDG0",
        "colab_type": "code",
        "colab": {}
      },
      "source": [
        "# SVM Classifier\n",
        "\n",
        "from sklearn import svm \n",
        "clf = svm.SVC()\n",
        "clf.fit(X_train,y_train)\n",
        "\n",
        "y_pred = clf.predict(X_test)\n",
        "print('Accuracy = ',accuracy_score(y_test,y_pred))\n",
        "print('Precision = ',precision_score(y_test,y_pred))\n",
        "print('Recall = ',recall_score(y_test,y_pred))\n",
        "print('F1 Score = ',f1_score(y_test,y_pred))"
      ],
      "execution_count": 0,
      "outputs": []
    },
    {
      "cell_type": "code",
      "metadata": {
        "id": "X-ABHzxDx6C5",
        "colab_type": "code",
        "colab": {}
      },
      "source": [
        "# Decision Tree Classifer\n",
        "\n",
        "from sklearn.tree import DecisionTreeClassifier\n",
        "clf = DecisionTreeClassifier()\n",
        "clf.fit(X_train,y_train)\n",
        "\n",
        "y_pred = clf.predict(X_test)\n",
        "print('Accuracy = ',accuracy_score(y_test,y_pred))\n",
        "print('Precision = ',precision_score(y_test,y_pred))\n",
        "print('Recall = ',recall_score(y_test,y_pred))\n",
        "print('F1 Score = ',f1_score(y_test,y_pred))"
      ],
      "execution_count": 0,
      "outputs": []
    },
    {
      "cell_type": "markdown",
      "metadata": {
        "id": "IbffgLnWTa3L",
        "colab_type": "text"
      },
      "source": [
        "## Classification Report"
      ]
    },
    {
      "cell_type": "code",
      "metadata": {
        "id": "eJVqcq8qTXPO",
        "colab_type": "code",
        "colab": {}
      },
      "source": [
        "from sklearn.metrics import classification_report\n",
        "y_true = [\"cat\", \"ant\", \"cat\", \"cat\", \"ant\", \"bird\"]\n",
        "y_pred = [\"ant\", \"ant\", \"cat\", \"cat\", \"ant\", \"cat\"]\n",
        "print(classification_report(y_true, y_pred, labels=[\"ant\", \"bird\", \"cat\"]))"
      ],
      "execution_count": 0,
      "outputs": []
    },
    {
      "cell_type": "markdown",
      "metadata": {
        "id": "Yak6tApuTeuh",
        "colab_type": "text"
      },
      "source": [
        "## Ex: Classification Report"
      ]
    },
    {
      "cell_type": "code",
      "metadata": {
        "id": "0cVf9WaZrwN9",
        "colab_type": "code",
        "colab": {}
      },
      "source": [
        "# Load Iris dataset\n",
        "import pandas as pd\n",
        "dataset_path = \"https://raw.githubusercontent.com/pandas-dev/pandas/master/pandas/tests/data/iris.csv\"\n",
        "                     \n",
        "X = pd.read_csv(dataset_path)\n",
        "\n",
        "X = X.dropna()\n",
        "y = X.pop('Name')\n",
        "\n",
        "from sklearn.preprocessing import LabelEncoder\n",
        "le = LabelEncoder()\n",
        "y = le.fit_transform(y)\n",
        "\n",
        "from sklearn.model_selection import train_test_split\n",
        "\n",
        "X_train,X_test,y_train,y_test = train_test_split(X,y,test_size=0.3,random_state=100)"
      ],
      "execution_count": 0,
      "outputs": []
    },
    {
      "cell_type": "code",
      "metadata": {
        "id": "uVcdX4CBty6m",
        "colab_type": "code",
        "colab": {}
      },
      "source": [
        "# KNN Classifier\n",
        "\n",
        "from sklearn import neighbors\n",
        "clf = neighbors.KNeighborsClassifier()\n",
        "clf.fit(X_train,y_train)\n",
        "\n",
        "y_pred = clf.predict(X_test)\n",
        "print(classification_report(y_test, y_pred))"
      ],
      "execution_count": 0,
      "outputs": []
    },
    {
      "cell_type": "code",
      "metadata": {
        "id": "IJtXr-3Yt2OE",
        "colab_type": "code",
        "colab": {}
      },
      "source": [
        "# Logistic Regression Classifier\n",
        "\n",
        "from sklearn.linear_model import LogisticRegression \n",
        "clf = LogisticRegression()\n",
        "clf.fit(X_train,y_train)\n",
        "\n",
        "y_pred = clf.predict(X_test)\n",
        "print(classification_report(y_test, y_pred))"
      ],
      "execution_count": 0,
      "outputs": []
    },
    {
      "cell_type": "code",
      "metadata": {
        "id": "V4wndfenTc8f",
        "colab_type": "code",
        "colab": {}
      },
      "source": [
        "# SVM Classifier\n",
        "\n",
        "from sklearn import svm \n",
        "clf = svm.SVC()\n",
        "clf.fit(X_train,y_train)\n",
        "\n",
        "y_pred = clf.predict(X_test)\n",
        "print(classification_report(y_test, y_pred))"
      ],
      "execution_count": 0,
      "outputs": []
    },
    {
      "cell_type": "code",
      "metadata": {
        "id": "-cYymN8At9Zd",
        "colab_type": "code",
        "colab": {}
      },
      "source": [
        "# GNB Classifier\n",
        "\n",
        "from sklearn.naive_bayes import GaussianNB\n",
        "clf = GaussianNB()\n",
        "clf.fit(X_train,y_train)\n",
        "\n",
        "y_pred = clf.predict(X_test)\n",
        "print(classification_report(y_test, y_pred))"
      ],
      "execution_count": 0,
      "outputs": []
    },
    {
      "cell_type": "code",
      "metadata": {
        "id": "kyJjWxcmuJjt",
        "colab_type": "code",
        "colab": {}
      },
      "source": [
        "# Decision Tree Classifer\n",
        "\n",
        "from sklearn.tree import DecisionTreeClassifier\n",
        "clf = DecisionTreeClassifier()\n",
        "clf.fit(X_train,y_train)\n",
        "\n",
        "y_pred = clf.predict(X_test)\n",
        "print(classification_report(y_test, y_pred))\n"
      ],
      "execution_count": 0,
      "outputs": []
    },
    {
      "cell_type": "code",
      "metadata": {
        "id": "3VHOPxTJuBnK",
        "colab_type": "code",
        "colab": {}
      },
      "source": [
        "# SGD Classifer\n",
        "\n",
        "from sklearn.linear_model import SGDClassifier\n",
        "clf = SGDClassifier()\n",
        "clf.fit(X_train,y_train)\n",
        "\n",
        "y_pred = clf.predict(X_test)\n",
        "print(classification_report(y_test, y_pred))"
      ],
      "execution_count": 0,
      "outputs": []
    },
    {
      "cell_type": "markdown",
      "metadata": {
        "id": "3ZFZ6AL_ztLC",
        "colab_type": "text"
      },
      "source": [
        "## ROC Curve and AUC"
      ]
    },
    {
      "cell_type": "code",
      "metadata": {
        "id": "CsiVdC3D9914",
        "colab_type": "code",
        "colab": {}
      },
      "source": [
        "# Load Iris dataset\n",
        "import pandas as pd\n",
        "dataset_path = \"https://raw.githubusercontent.com/pandas-dev/pandas/master/pandas/tests/data/iris.csv\"\n",
        "                     \n",
        "X = pd.read_csv(dataset_path)\n",
        "\n",
        "X = X.dropna()\n",
        "y = X.pop('Name')\n",
        "\n",
        "from sklearn.preprocessing import LabelEncoder\n",
        "le = LabelEncoder()\n",
        "y = le.fit_transform(y)\n",
        "y[y==2]=0\n",
        "\n",
        "from sklearn.model_selection import train_test_split\n",
        "\n",
        "X_train,X_test,y_train,y_test = train_test_split(X,y,test_size=0.3,random_state=100)"
      ],
      "execution_count": 0,
      "outputs": []
    },
    {
      "cell_type": "code",
      "metadata": {
        "id": "itfUuS3u-A-I",
        "colab_type": "code",
        "colab": {}
      },
      "source": [
        "# Load Wine Quality dataset\n",
        "\n",
        "import pandas as pd\n",
        "dataset_path = \"https://archive.ics.uci.edu/ml/machine-learning-databases/wine-quality/winequality-red.csv\"\n",
        "\n",
        "X = pd.read_csv(dataset_path,sep=\";\")\n",
        "\n",
        "X = X.dropna()\n",
        "y = X.pop('quality')\n",
        "\n",
        "y[y<6]=0\n",
        "y[y>=6]=1\n",
        "\n",
        "from sklearn.model_selection import train_test_split\n",
        "\n",
        "X_train,X_test,y_train,y_test = train_test_split(X,y,test_size=0.3,random_state=100)\n",
        "y_train"
      ],
      "execution_count": 0,
      "outputs": []
    },
    {
      "cell_type": "code",
      "metadata": {
        "id": "MYCEWiM9Tk7Q",
        "colab_type": "code",
        "colab": {}
      },
      "source": [
        "from sklearn.metrics import roc_curve,roc_auc_score\n",
        "\n",
        "from sklearn import neighbors\n",
        "clf = neighbors.KNeighborsClassifier()\n",
        "\n",
        "clf.fit(X_train,y_train)\n",
        "\n",
        "# predict probabilities\n",
        "y_probs = clf.predict_proba(X_test)\n",
        "\n",
        "# keep probabilities for the positive outcome only\n",
        "y_probs = y_probs[:, 1]\n",
        "\n",
        "auc_score = roc_auc_score(y_test, y_probs)\n",
        "print(\"AUC = \", auc_score)\n",
        "\n",
        "fpr, tpr, threshold = roc_curve(y_test,y_probs)"
      ],
      "execution_count": 0,
      "outputs": []
    },
    {
      "cell_type": "code",
      "metadata": {
        "id": "Z3JKhbtq_bnw",
        "colab_type": "code",
        "colab": {}
      },
      "source": [
        "import matplotlib.pyplot as plt\n",
        "\n",
        "plt.plot(fpr,tpr,'o-')\n",
        "plt.xlabel('False Postive Rate')\n",
        "plt.ylabel('True Positive Rate')"
      ],
      "execution_count": 0,
      "outputs": []
    },
    {
      "cell_type": "code",
      "metadata": {
        "id": "oWzWsgel-wsc",
        "colab_type": "code",
        "colab": {}
      },
      "source": [
        "from sklearn.metrics import roc_curve,roc_auc_score\n",
        "\n",
        "from sklearn.linear_model import LogisticRegression \n",
        "clf = LogisticRegression()\n",
        "\n",
        "clf.fit(X_train,y_train)\n",
        "\n",
        "# predict probabilities\n",
        "y_probs = clf.predict_proba(X_test)\n",
        "\n",
        "# keep probabilities for the positive outcome only\n",
        "y_probs = y_probs[:, 1]\n",
        "\n",
        "auc_score = roc_auc_score(y_test, y_probs)\n",
        "print(\"AUC = \", auc_score)\n",
        "\n",
        "fpr, tpr, threshold = roc_curve(y_test,y_probs)"
      ],
      "execution_count": 0,
      "outputs": []
    },
    {
      "cell_type": "code",
      "metadata": {
        "id": "FhTx8XchTmZ4",
        "colab_type": "code",
        "colab": {}
      },
      "source": [
        "import matplotlib.pyplot as plt\n",
        "\n",
        "plt.plot(fpr,tpr,'o-')\n",
        "plt.xlabel('False Postive Rate')\n",
        "plt.ylabel('True Positive Rate')"
      ],
      "execution_count": 0,
      "outputs": []
    },
    {
      "cell_type": "markdown",
      "metadata": {
        "id": "QB9yRXS3T9oz",
        "colab_type": "text"
      },
      "source": [
        "# Topic 3 Regression"
      ]
    },
    {
      "cell_type": "markdown",
      "metadata": {
        "id": "eRUtaba9gvSz",
        "colab_type": "text"
      },
      "source": [
        "## Load the Data"
      ]
    },
    {
      "cell_type": "code",
      "metadata": {
        "id": "cLq7vbOBZH0e",
        "colab_type": "code",
        "colab": {}
      },
      "source": [
        "import pandas as pd\n",
        "dataset_path = \"https://raw.githubusercontent.com/selva86/datasets/master/BostonHousing.csv\"                     \n",
        "X = pd.read_csv(dataset_path)\n"
      ],
      "execution_count": 0,
      "outputs": []
    },
    {
      "cell_type": "markdown",
      "metadata": {
        "id": "rO4a67Geg1o0",
        "colab_type": "text"
      },
      "source": [
        "### Prepare the Data"
      ]
    },
    {
      "cell_type": "code",
      "metadata": {
        "id": "DWdg6eXCjKiS",
        "colab_type": "code",
        "colab": {}
      },
      "source": [
        "# Remove missing data\n",
        "X = X.dropna()"
      ],
      "execution_count": 0,
      "outputs": []
    },
    {
      "cell_type": "code",
      "metadata": {
        "id": "fbbJf-6xZnOW",
        "colab_type": "code",
        "colab": {}
      },
      "source": [
        "# Define input and output\n",
        "y = X.pop('medv')"
      ],
      "execution_count": 0,
      "outputs": []
    },
    {
      "cell_type": "code",
      "metadata": {
        "id": "g9_W8i5gZ0Rl",
        "colab_type": "code",
        "colab": {}
      },
      "source": [
        "# Split and Randomize the data\n",
        "from sklearn.model_selection import train_test_split\n",
        "\n",
        "X_train,X_test,y_train,y_test = train_test_split(X,y,test_size=0.3,random_state=100)"
      ],
      "execution_count": 0,
      "outputs": []
    },
    {
      "cell_type": "code",
      "metadata": {
        "id": "CUiXEwM8aI4V",
        "colab_type": "code",
        "colab": {}
      },
      "source": [
        "# Scale the input data\n",
        "from sklearn.preprocessing import MinMaxScaler\n",
        "\n",
        "msc = MinMaxScaler()\n",
        "\n",
        "X_train = pd.DataFrame(msc.fit_transform(X_train), columns=X_train.columns)\n",
        "X_test = pd.DataFrame(msc.fit_transform(X_test), columns=X_test.columns)"
      ],
      "execution_count": 0,
      "outputs": []
    },
    {
      "cell_type": "code",
      "metadata": {
        "id": "oj_wIAH-aeVA",
        "colab_type": "code",
        "colab": {}
      },
      "source": [
        "X_train"
      ],
      "execution_count": 0,
      "outputs": []
    },
    {
      "cell_type": "markdown",
      "metadata": {
        "id": "tXOjGqU9hFws",
        "colab_type": "text"
      },
      "source": [
        "## Define the Model"
      ]
    },
    {
      "cell_type": "code",
      "metadata": {
        "id": "_oSbX8TJa1fs",
        "colab_type": "code",
        "colab": {}
      },
      "source": [
        "# Linear Regression Model\n",
        "\n",
        "from sklearn import linear_model \n",
        "\n",
        "lm = linear_model.LinearRegression()\n"
      ],
      "execution_count": 0,
      "outputs": []
    },
    {
      "cell_type": "markdown",
      "metadata": {
        "id": "Sim2PEBohIzn",
        "colab_type": "text"
      },
      "source": [
        "### Train the Model"
      ]
    },
    {
      "cell_type": "code",
      "metadata": {
        "id": "wbNsbDfDhPGp",
        "colab_type": "code",
        "colab": {}
      },
      "source": [
        "lm.fit(X_train,y_train)"
      ],
      "execution_count": 0,
      "outputs": []
    },
    {
      "cell_type": "markdown",
      "metadata": {
        "id": "n3_kH4VXhQ8i",
        "colab_type": "text"
      },
      "source": [
        "## Evaluate the Model"
      ]
    },
    {
      "cell_type": "code",
      "metadata": {
        "id": "DBte2QcixjT3",
        "colab_type": "code",
        "colab": {}
      },
      "source": [
        "from sklearn.metrics import mean_squared_error, r2_score\n",
        "\n",
        "yhat = lm.predict(X_train)\n",
        "mse = mean_squared_error(y_train,yhat)\n",
        "print('Mean Squared Error, Training: ',mse)\n",
        "rsq = r2_score(y_train,yhat)\n",
        "print('R-square, Training: ',rsq)\n",
        "\n",
        "yhat = lm.predict(X_test)\n",
        "mse = mean_squared_error(y_test,yhat)\n",
        "print('Mean Squared Error, Testing: ',mse)\n",
        "rsq = r2_score(y_test,yhat)\n",
        "print('R-square, Testing: ',rsq)"
      ],
      "execution_count": 0,
      "outputs": []
    },
    {
      "cell_type": "code",
      "metadata": {
        "id": "6zsyRMNUcK4i",
        "colab_type": "code",
        "colab": {}
      },
      "source": [
        "%matplotlib inline\n",
        "import matplotlib.pyplot as plt \n",
        "\n",
        "yhat = lm.predict(X_test)\n",
        "\n",
        "\n",
        "plt.scatter(y_test,yhat)\n",
        "plt.xlabel('Actual Housing Price')\n",
        "plt.ylabel('Predicted Price')\n",
        "plt.axis('equal')\n",
        "plt.axis('square')\n",
        "plt.xlim([0,plt.xlim()[1]])\n",
        "plt.ylim([0,plt.xlim()[1]])\n",
        "plt.plot([0, 100], [0, 100],'r')"
      ],
      "execution_count": 0,
      "outputs": []
    },
    {
      "cell_type": "markdown",
      "metadata": {
        "id": "Kxl_mlFj7TZQ",
        "colab_type": "text"
      },
      "source": [
        "## Regularizations"
      ]
    },
    {
      "cell_type": "markdown",
      "metadata": {
        "id": "bKrJov9XWM84",
        "colab_type": "text"
      },
      "source": [
        "### Ridge Regularization"
      ]
    },
    {
      "cell_type": "code",
      "metadata": {
        "id": "8mV4HQFA3-wp",
        "colab_type": "code",
        "colab": {}
      },
      "source": [
        "from sklearn.linear_model import Ridge\n",
        "rr = Ridge(alpha=0.01) \n",
        "rr.fit(X_train,y_train)"
      ],
      "execution_count": 0,
      "outputs": []
    },
    {
      "cell_type": "code",
      "metadata": {
        "id": "mNJZy6Fs4TJW",
        "colab_type": "code",
        "colab": {}
      },
      "source": [
        "from sklearn.metrics import mean_squared_error, r2_score\n",
        "\n",
        "yhat = rr.predict(X_train)\n",
        "mse = mean_squared_error(y_train,yhat)\n",
        "print('Mean Squared Error, Training: ',mse)\n",
        "rsq = r2_score(y_train,yhat)\n",
        "print('R-square, Training: ',rsq)\n",
        "\n",
        "yhat = rr.predict(X_test)\n",
        "mse = mean_squared_error(y_test,yhat)\n",
        "print('Mean Squared Error, Testing: ',mse)\n",
        "rsq = r2_score(y_test,yhat)\n",
        "print('R-square, Testing: ',rsq)"
      ],
      "execution_count": 0,
      "outputs": []
    },
    {
      "cell_type": "markdown",
      "metadata": {
        "id": "ABp5KcZAWQsg",
        "colab_type": "text"
      },
      "source": [
        "### Lasso Regularizaton"
      ]
    },
    {
      "cell_type": "code",
      "metadata": {
        "id": "hE6H9xG54b01",
        "colab_type": "code",
        "colab": {}
      },
      "source": [
        "from sklearn.linear_model import Lasso\n",
        "lr = Lasso(alpha=0.01) \n",
        "lr.fit(X_train,y_train)"
      ],
      "execution_count": 0,
      "outputs": []
    },
    {
      "cell_type": "code",
      "metadata": {
        "id": "6d5v4nnd4hxc",
        "colab_type": "code",
        "colab": {}
      },
      "source": [
        "from sklearn.metrics import mean_squared_error, r2_score\n",
        "\n",
        "yhat = lr.predict(X_train)\n",
        "mse = mean_squared_error(y_train,yhat)\n",
        "print('Mean Squared Error, Training: ',mse)\n",
        "rsq = r2_score(y_train,yhat)\n",
        "print('R-square, Training: ',rsq)\n",
        "\n",
        "yhat = lr.predict(X_test)\n",
        "mse = mean_squared_error(y_test,yhat)\n",
        "print('Mean Squared Error, Testing: ',mse)\n",
        "rsq = r2_score(y_test,yhat)\n",
        "print('R-square, Testing: ',rsq)"
      ],
      "execution_count": 0,
      "outputs": []
    },
    {
      "cell_type": "markdown",
      "metadata": {
        "id": "mIF29vAzWUAs",
        "colab_type": "text"
      },
      "source": [
        "### Elastic Net Regularization"
      ]
    },
    {
      "cell_type": "code",
      "metadata": {
        "id": "fuJHKNOo52sT",
        "colab_type": "code",
        "colab": {}
      },
      "source": [
        "from sklearn.linear_model import ElasticNet\n",
        "er = ElasticNet(alpha=0.01,l1_ratio=0.5)\n",
        "er.fit(X_train,y_train)"
      ],
      "execution_count": 0,
      "outputs": []
    },
    {
      "cell_type": "code",
      "metadata": {
        "id": "XArePwP96NuV",
        "colab_type": "code",
        "colab": {}
      },
      "source": [
        "from sklearn.metrics import mean_squared_error, r2_score\n",
        "\n",
        "yhat = er.predict(X_train)\n",
        "mse = mean_squared_error(y_train,yhat)\n",
        "print('Mean Squared Error, Training: ',mse)\n",
        "rsq = r2_score(y_train,yhat)\n",
        "print('R-square, Training: ',rsq)\n",
        "\n",
        "yhat = er.predict(X_test)\n",
        "mse = mean_squared_error(y_test,yhat)\n",
        "print('Mean Squared Error, Testing: ',mse)\n",
        "rsq = r2_score(y_test,yhat)\n",
        "print('R-square, Testing: ',rsq)"
      ],
      "execution_count": 0,
      "outputs": []
    },
    {
      "cell_type": "markdown",
      "metadata": {
        "id": "suUk6fWwUEdD",
        "colab_type": "text"
      },
      "source": [
        "## Ex: Linear Regression"
      ]
    },
    {
      "cell_type": "code",
      "metadata": {
        "id": "fn9NdXzhUBhL",
        "colab_type": "code",
        "colab": {}
      },
      "source": [
        "import pandas as pd\n",
        "dataset_path = \"https://raw.githubusercontent.com/pandas-dev/pandas/master/pandas/tests/data/iris.csv\"\n",
        "                     \n",
        "X = pd.read_csv(dataset_path)\n",
        "X"
      ],
      "execution_count": 0,
      "outputs": []
    },
    {
      "cell_type": "code",
      "metadata": {
        "id": "00O99i_vUGKF",
        "colab_type": "code",
        "colab": {}
      },
      "source": [
        "X = X.dropna()\n",
        "X.pop('Name')\n",
        "X"
      ],
      "execution_count": 0,
      "outputs": []
    },
    {
      "cell_type": "code",
      "metadata": {
        "id": "q998RnZFe-4P",
        "colab_type": "code",
        "colab": {}
      },
      "source": [
        "y = X.pop('SepalWidth')"
      ],
      "execution_count": 0,
      "outputs": []
    },
    {
      "cell_type": "code",
      "metadata": {
        "id": "NSTtK0LMfC6Z",
        "colab_type": "code",
        "colab": {}
      },
      "source": [
        "# Split and Randomize the data\n",
        "from sklearn.model_selection import train_test_split\n",
        "\n",
        "X_train,X_test,y_train,y_test = train_test_split(X,y,test_size=0.3,random_state=100)"
      ],
      "execution_count": 0,
      "outputs": []
    },
    {
      "cell_type": "code",
      "metadata": {
        "id": "KXpmECprfHwb",
        "colab_type": "code",
        "colab": {}
      },
      "source": [
        "from sklearn.preprocessing import MinMaxScaler\n",
        "\n",
        "msc = MinMaxScaler()\n",
        "\n",
        "X_train = pd.DataFrame(msc.fit_transform(X_train), columns=X_train.columns)\n",
        "X_test = pd.DataFrame(msc.fit_transform(X_test), columns=X_test.columns)"
      ],
      "execution_count": 0,
      "outputs": []
    },
    {
      "cell_type": "code",
      "metadata": {
        "id": "jDAB6i3GfQTU",
        "colab_type": "code",
        "colab": {}
      },
      "source": [
        "# Linear Regression Model\n",
        "\n",
        "from sklearn import linear_model \n",
        "\n",
        "lm = linear_model.LinearRegression()\n",
        "lm.fit(X_train,y_train)"
      ],
      "execution_count": 0,
      "outputs": []
    },
    {
      "cell_type": "code",
      "metadata": {
        "id": "DdAXEFsoz8pT",
        "colab_type": "code",
        "colab": {}
      },
      "source": [
        "from sklearn.metrics import mean_squared_error, r2_score\n",
        "\n",
        "yhat = lm.predict(X_train)\n",
        "mse = mean_squared_error(y_train,yhat)\n",
        "print('Mean Squared Error, Training: ',mse)\n",
        "rsq = r2_score(y_train,yhat)\n",
        "print('R-square, Training: ',rsq)\n",
        "\n",
        "yhat = lm.predict(X_test)\n",
        "mse = mean_squared_error(y_test,yhat)\n",
        "print('Mean Squared Error, Testing: ',mse)\n",
        "rsq = r2_score(y_test,yhat)\n",
        "print('R-square, Testing: ',rsq)"
      ],
      "execution_count": 0,
      "outputs": []
    },
    {
      "cell_type": "code",
      "metadata": {
        "id": "dDS_s-GMUH21",
        "colab_type": "code",
        "colab": {}
      },
      "source": [
        "%matplotlib inline\n",
        "import matplotlib.pyplot as plt \n",
        "\n",
        "yhat = lm.predict(X_test)\n",
        "\n",
        "\n",
        "plt.scatter(y_test,yhat)\n",
        "plt.xlabel('Actual Sepal Width')\n",
        "plt.ylabel('Predicted Sepal Width')\n",
        "plt.axis('equal')\n",
        "plt.axis('square')\n",
        "plt.xlim([0,plt.xlim()[1]])\n",
        "plt.ylim([0,plt.xlim()[1]])\n",
        "plt.plot([0, 100], [0, 100],'r')"
      ],
      "execution_count": 0,
      "outputs": []
    },
    {
      "cell_type": "markdown",
      "metadata": {
        "id": "9L6qfnFmUokI",
        "colab_type": "text"
      },
      "source": [
        "# Topic 4 Clustering"
      ]
    },
    {
      "cell_type": "markdown",
      "metadata": {
        "id": "gV4lHfgpUtFb",
        "colab_type": "text"
      },
      "source": [
        "## Load the Data"
      ]
    },
    {
      "cell_type": "code",
      "metadata": {
        "id": "CIurmsPdUuwp",
        "colab_type": "code",
        "colab": {}
      },
      "source": [
        "from sklearn.datasets.samples_generator import make_blobs\n",
        "\n",
        "centers = [[1,1],[1.5,1.5],[2,2]]\n",
        "X,y = make_blobs(n_samples=100,centers = centers,cluster_std=0.1)\n",
        "\n",
        "import matplotlib.pyplot as plt\n",
        "plt.scatter(X[:,0],X[:,1])"
      ],
      "execution_count": 0,
      "outputs": []
    },
    {
      "cell_type": "markdown",
      "metadata": {
        "id": "TvjMG0u9UyND",
        "colab_type": "text"
      },
      "source": [
        "## load the Model"
      ]
    },
    {
      "cell_type": "code",
      "metadata": {
        "id": "NQnnWHsdUwG7",
        "colab_type": "code",
        "colab": {}
      },
      "source": [
        "from sklearn.cluster import KMeans\n",
        "\n",
        "cluster = KMeans(n_clusters=3,random_state=10)"
      ],
      "execution_count": 0,
      "outputs": []
    },
    {
      "cell_type": "markdown",
      "metadata": {
        "id": "oGmfEOM1U29E",
        "colab_type": "text"
      },
      "source": [
        "## Train the Model"
      ]
    },
    {
      "cell_type": "code",
      "metadata": {
        "id": "53woiFbEUytx",
        "colab_type": "code",
        "colab": {}
      },
      "source": [
        "cluster.fit(X)"
      ],
      "execution_count": 0,
      "outputs": []
    },
    {
      "cell_type": "markdown",
      "metadata": {
        "id": "ozO-cSZxU9mn",
        "colab_type": "text"
      },
      "source": [
        "## Evaluate the Model"
      ]
    },
    {
      "cell_type": "code",
      "metadata": {
        "id": "cNLbF72kU6dz",
        "colab_type": "code",
        "colab": {}
      },
      "source": [
        "cluster.labels_"
      ],
      "execution_count": 0,
      "outputs": []
    },
    {
      "cell_type": "code",
      "metadata": {
        "id": "gzwKnYuiU_g9",
        "colab_type": "code",
        "colab": {}
      },
      "source": [
        "cluster.cluster_centers_"
      ],
      "execution_count": 0,
      "outputs": []
    },
    {
      "cell_type": "code",
      "metadata": {
        "id": "ImTBYFgcVBE_",
        "colab_type": "code",
        "colab": {}
      },
      "source": [
        "plt.subplot(1,2,1)\n",
        "plt.scatter(X[:,0],X[:,1],c=y)\n",
        "plt.title(\"Actual\")\n",
        "plt.subplot(1,2,2)\n",
        "plt.scatter(X[:,0],X[:,1],c=cluster.labels_)\n",
        "plt.title(\"Prediction\")"
      ],
      "execution_count": 0,
      "outputs": []
    },
    {
      "cell_type": "markdown",
      "metadata": {
        "id": "g6WqUDJGVIJl",
        "colab_type": "text"
      },
      "source": [
        "## Ex: KMeans Clustering"
      ]
    },
    {
      "cell_type": "code",
      "metadata": {
        "id": "cOtoqQZLF85O",
        "colab_type": "code",
        "colab": {}
      },
      "source": [
        "# Load Iris dataset\n",
        "import pandas as pd\n",
        "dataset_path = \"https://raw.githubusercontent.com/pandas-dev/pandas/master/pandas/tests/data/iris.csv\"\n",
        "                     \n",
        "X = pd.read_csv(dataset_path)\n",
        "\n",
        "X = X.dropna()\n",
        "y = X.pop('Name')\n",
        "\n",
        "from sklearn.preprocessing import LabelEncoder\n",
        "le = LabelEncoder()\n",
        "y = le.fit_transform(y)\n",
        "\n",
        "y"
      ],
      "execution_count": 0,
      "outputs": []
    },
    {
      "cell_type": "code",
      "metadata": {
        "id": "rGiGn-TqVC17",
        "colab_type": "code",
        "colab": {}
      },
      "source": [
        "from sklearn.cluster import KMeans\n",
        "\n",
        "cluster = KMeans(n_clusters=3,random_state=10)\n",
        "cluster.fit(X)\n",
        "\n"
      ],
      "execution_count": 0,
      "outputs": []
    },
    {
      "cell_type": "code",
      "metadata": {
        "id": "NPXlaUkYNzgA",
        "colab_type": "code",
        "colab": {}
      },
      "source": [
        "x1 = 'SepalWidth'\n",
        "x2 = 'SepalLength'\n",
        "plt.subplot(1,2,1)\n",
        "plt.scatter(X[x1],X[x2],c=y)\n",
        "plt.title(\"Actual\")\n",
        "plt.subplot(1,2,2)\n",
        "plt.scatter(X[x1],X[x2],c=cluster.labels_)\n",
        "plt.title(\"Prediction\")"
      ],
      "execution_count": 0,
      "outputs": []
    },
    {
      "cell_type": "markdown",
      "metadata": {
        "id": "jLhWtO8bVR7G",
        "colab_type": "text"
      },
      "source": [
        "## Hierarchical Agglormerative Clustering"
      ]
    },
    {
      "cell_type": "code",
      "metadata": {
        "id": "7cDJsbaBI_JV",
        "colab_type": "code",
        "colab": {}
      },
      "source": [
        "from sklearn.datasets.samples_generator import make_blobs\n",
        "\n",
        "centers = [[1,1],[1.5,1.5],[2,2]]\n",
        "X,y = make_blobs(n_samples=100,centers = centers,cluster_std=0.1)\n",
        "\n",
        "import matplotlib.pyplot as plt\n",
        "plt.scatter(X[:,0],X[:,1])"
      ],
      "execution_count": 0,
      "outputs": []
    },
    {
      "cell_type": "code",
      "metadata": {
        "id": "yOWsnsTbLlB5",
        "colab_type": "code",
        "colab": {}
      },
      "source": [
        "from scipy.cluster.hierarchy import dendrogram, linkage\n",
        "\n",
        "Z = linkage(X)\n",
        "d = dendrogram(Z)\n",
        "plt.plot(d)"
      ],
      "execution_count": 0,
      "outputs": []
    },
    {
      "cell_type": "code",
      "metadata": {
        "id": "nK8sj8y4JCtX",
        "colab_type": "code",
        "colab": {}
      },
      "source": [
        "from sklearn.cluster import AgglomerativeClustering\n",
        "\n",
        "cluster = AgglomerativeClustering(n_clusters = 3)\n",
        "cluster.fit(X)"
      ],
      "execution_count": 0,
      "outputs": []
    },
    {
      "cell_type": "code",
      "metadata": {
        "id": "P9mELgyyJJ-9",
        "colab_type": "code",
        "colab": {}
      },
      "source": [
        "plt.subplot(1,2,1)\n",
        "plt.scatter(X[:,0],X[:,1],c=y)\n",
        "plt.title(\"Actual\")\n",
        "plt.subplot(1,2,2)\n",
        "plt.scatter(X[:,0],X[:,1],c=cluster.labels_)\n",
        "plt.title(\"Prediction\")"
      ],
      "execution_count": 0,
      "outputs": []
    },
    {
      "cell_type": "markdown",
      "metadata": {
        "id": "mE5GrTSsRGOQ",
        "colab_type": "text"
      },
      "source": [
        "## Ex: Hierarchical Agglormerative Clustering"
      ]
    },
    {
      "cell_type": "code",
      "metadata": {
        "id": "XtVNBx4AM8ZZ",
        "colab_type": "code",
        "colab": {}
      },
      "source": [
        "# Load Iris dataset\n",
        "import pandas as pd\n",
        "dataset_path = \"https://raw.githubusercontent.com/pandas-dev/pandas/master/pandas/tests/data/iris.csv\"\n",
        "                     \n",
        "X = pd.read_csv(dataset_path)\n",
        "\n",
        "X = X.dropna()\n",
        "y = X.pop('Name')\n",
        "\n",
        "from sklearn.preprocessing import LabelEncoder\n",
        "le = LabelEncoder()\n",
        "y = le.fit_transform(y)\n",
        "\n",
        "y"
      ],
      "execution_count": 0,
      "outputs": []
    },
    {
      "cell_type": "code",
      "metadata": {
        "id": "ibzuRq-MNRf9",
        "colab_type": "code",
        "colab": {}
      },
      "source": [
        "from scipy.cluster.hierarchy import dendrogram, linkage\n",
        "\n",
        "Z = linkage(X)\n",
        "d = dendrogram(Z)\n",
        "plt.plot(d)"
      ],
      "execution_count": 0,
      "outputs": []
    },
    {
      "cell_type": "code",
      "metadata": {
        "id": "SiaNRwkDNl1G",
        "colab_type": "code",
        "colab": {}
      },
      "source": [
        "from sklearn.cluster import AgglomerativeClustering\n",
        "\n",
        "cluster = AgglomerativeClustering(n_clusters = 2)\n",
        "cluster.fit(X)"
      ],
      "execution_count": 0,
      "outputs": []
    },
    {
      "cell_type": "code",
      "metadata": {
        "id": "giELkzehNoN_",
        "colab_type": "code",
        "colab": {}
      },
      "source": [
        "x1 = 'SepalWidth'\n",
        "x2 = 'SepalLength'\n",
        "plt.subplot(1,2,1)\n",
        "plt.scatter(X[x1],X[x2],c=y)\n",
        "plt.title(\"Actual\")\n",
        "plt.subplot(1,2,2)\n",
        "plt.scatter(X[x1],X[x2],c=cluster.labels_)\n",
        "plt.title(\"Prediction\")"
      ],
      "execution_count": 0,
      "outputs": []
    },
    {
      "cell_type": "markdown",
      "metadata": {
        "id": "gFzO6Xj-Vdrc",
        "colab_type": "text"
      },
      "source": [
        "# Topic 5 Dimension Reduction"
      ]
    },
    {
      "cell_type": "code",
      "metadata": {
        "id": "fZg4O88efglN",
        "colab_type": "code",
        "colab": {
          "base_uri": "https://localhost:8080/",
          "height": 125
        },
        "outputId": "084ff4d5-e915-4a33-f228-5173c2a64526"
      },
      "source": [
        "X = np.array([[-1, -1], [-2, -1], [-3, -2], [1, 1], [2, 1], [3, 2]])\n",
        "\n",
        "from sklearn import decomposition\n",
        "pca = decomposition.PCA(n_components=2)\n",
        "pca.fit_transform(X)"
      ],
      "execution_count": 357,
      "outputs": [
        {
          "output_type": "execute_result",
          "data": {
            "text/plain": [
              "array([[ 1.38340578,  0.2935787 ],\n",
              "       [ 2.22189802, -0.25133484],\n",
              "       [ 3.6053038 ,  0.04224385],\n",
              "       [-1.38340578, -0.2935787 ],\n",
              "       [-2.22189802,  0.25133484],\n",
              "       [-3.6053038 , -0.04224385]])"
            ]
          },
          "metadata": {
            "tags": []
          },
          "execution_count": 357
        }
      ]
    },
    {
      "cell_type": "code",
      "metadata": {
        "id": "QddKazgnflsD",
        "colab_type": "code",
        "colab": {
          "base_uri": "https://localhost:8080/",
          "height": 35
        },
        "outputId": "3bb3b5b7-49d1-46e0-948d-86740f586d61"
      },
      "source": [
        "pca.explained_variance_"
      ],
      "execution_count": 358,
      "outputs": [
        {
          "output_type": "execute_result",
          "data": {
            "text/plain": [
              "array([7.93954312, 0.06045688])"
            ]
          },
          "metadata": {
            "tags": []
          },
          "execution_count": 358
        }
      ]
    },
    {
      "cell_type": "code",
      "metadata": {
        "id": "QVABVf6Yfp_B",
        "colab_type": "code",
        "colab": {
          "base_uri": "https://localhost:8080/",
          "height": 35
        },
        "outputId": "cbf81d16-e39e-401d-f299-f75c58ead5ba"
      },
      "source": [
        "pca.explained_variance_ratio_"
      ],
      "execution_count": 359,
      "outputs": [
        {
          "output_type": "execute_result",
          "data": {
            "text/plain": [
              "array([0.99244289, 0.00755711])"
            ]
          },
          "metadata": {
            "tags": []
          },
          "execution_count": 359
        }
      ]
    },
    {
      "cell_type": "markdown",
      "metadata": {
        "id": "l20Y8JccfsbP",
        "colab_type": "text"
      },
      "source": [
        "## PCA on Iris Dataset"
      ]
    },
    {
      "cell_type": "code",
      "metadata": {
        "id": "pkPLY5rsVS5n",
        "colab_type": "code",
        "colab": {}
      },
      "source": [
        "# Load Iris dataset\n",
        "import pandas as pd\n",
        "dataset_path = \"https://raw.githubusercontent.com/pandas-dev/pandas/master/pandas/tests/data/iris.csv\"\n",
        "                     \n",
        "X = pd.read_csv(dataset_path)\n",
        "\n",
        "X = X.dropna()\n",
        "y = X.pop('Name')\n",
        "\n",
        "from sklearn.preprocessing import LabelEncoder\n",
        "le = LabelEncoder()\n",
        "y = le.fit_transform(y)"
      ],
      "execution_count": 0,
      "outputs": []
    },
    {
      "cell_type": "code",
      "metadata": {
        "id": "_6G9K-ODWiXx",
        "colab_type": "code",
        "colab": {}
      },
      "source": [
        "from sklearn.decomposition import PCA\n",
        "pca = PCA(n_components=4)"
      ],
      "execution_count": 0,
      "outputs": []
    },
    {
      "cell_type": "code",
      "metadata": {
        "id": "52UC7ZibWjti",
        "colab_type": "code",
        "colab": {}
      },
      "source": [
        "X_t= pca.fit_transform(X)"
      ],
      "execution_count": 0,
      "outputs": []
    },
    {
      "cell_type": "code",
      "metadata": {
        "id": "H_l3PEXJWlhb",
        "colab_type": "code",
        "colab": {
          "base_uri": "https://localhost:8080/",
          "height": 35
        },
        "outputId": "b7fb7539-c4e9-4ba6-949d-616791f93b1c"
      },
      "source": [
        "pca.explained_variance_"
      ],
      "execution_count": 349,
      "outputs": [
        {
          "output_type": "execute_result",
          "data": {
            "text/plain": [
              "array([4.22484077, 0.24224357, 0.07852391, 0.02368303])"
            ]
          },
          "metadata": {
            "tags": []
          },
          "execution_count": 349
        }
      ]
    },
    {
      "cell_type": "code",
      "metadata": {
        "id": "dRbKq_bIWmw_",
        "colab_type": "code",
        "colab": {
          "base_uri": "https://localhost:8080/",
          "height": 35
        },
        "outputId": "f52d371f-fd25-470c-8214-9499e9d61173"
      },
      "source": [
        "pca.explained_variance_ratio_"
      ],
      "execution_count": 350,
      "outputs": [
        {
          "output_type": "execute_result",
          "data": {
            "text/plain": [
              "array([0.92461621, 0.05301557, 0.01718514, 0.00518309])"
            ]
          },
          "metadata": {
            "tags": []
          },
          "execution_count": 350
        }
      ]
    },
    {
      "cell_type": "markdown",
      "metadata": {
        "id": "tzHPt80TWqDT",
        "colab_type": "text"
      },
      "source": [
        "## Exercise: PCA on K-Means Clustering"
      ]
    },
    {
      "cell_type": "code",
      "metadata": {
        "id": "1DSD10mjWoLJ",
        "colab_type": "code",
        "colab": {
          "base_uri": "https://localhost:8080/",
          "height": 71
        },
        "outputId": "db6c3743-3137-480a-8e04-c28c91731fc4"
      },
      "source": [
        "from sklearn.cluster import KMeans\n",
        "\n",
        "cluster = KMeans(n_clusters=3)\n",
        "cluster.fit(X)\n",
        "\n",
        "cluster2 = KMeans(n_clusters=3)\n",
        "cluster2.fit(X_t)"
      ],
      "execution_count": 351,
      "outputs": [
        {
          "output_type": "execute_result",
          "data": {
            "text/plain": [
              "KMeans(algorithm='auto', copy_x=True, init='k-means++', max_iter=300,\n",
              "       n_clusters=3, n_init=10, n_jobs=None, precompute_distances='auto',\n",
              "       random_state=None, tol=0.0001, verbose=0)"
            ]
          },
          "metadata": {
            "tags": []
          },
          "execution_count": 351
        }
      ]
    },
    {
      "cell_type": "code",
      "metadata": {
        "id": "xrVqFfjbWtGR",
        "colab_type": "code",
        "colab": {
          "base_uri": "https://localhost:8080/",
          "height": 299
        },
        "outputId": "03a71949-af72-45da-af38-bcd542d7d568"
      },
      "source": [
        "import matplotlib.pyplot as plt\n",
        "\n",
        "x1 = 'SepalWidth'\n",
        "x2 = 'SepalLength'\n",
        "plt.subplot(2,2,1)\n",
        "plt.scatter(X[x1],X[x2],c=y)\n",
        "plt.title(\"Actual\")\n",
        "plt.subplot(2,2,2)\n",
        "plt.scatter(X[x1],X[x2],c=cluster.labels_)\n",
        "plt.title(\"Prediction\")\n",
        "\n",
        "plt.subplot(2,2,3)\n",
        "plt.scatter(X_t[:,0],X_t[:,1],c=y)\n",
        "plt.title('PCA')\n",
        "\n",
        "plt.subplot(2,2,4)\n",
        "plt.scatter(X_t[:,0],X_t[:,1],c=cluster2.labels_)\n",
        "plt.title('PCA')"
      ],
      "execution_count": 355,
      "outputs": [
        {
          "output_type": "execute_result",
          "data": {
            "text/plain": [
              "Text(0.5, 1.0, 'PCA')"
            ]
          },
          "metadata": {
            "tags": []
          },
          "execution_count": 355
        },
        {
          "output_type": "display_data",
          "data": {
            "image/png": "[encoded data removed]",
            "text/plain": [
              "<Figure size 432x288 with 4 Axes>"
            ]
          },
          "metadata": {
            "tags": []
          }
        }
      ]
    },
    {
      "cell_type": "code",
      "metadata": {
        "id": "w3u4iYWkWufS",
        "colab_type": "code",
        "colab": {}
      },
      "source": [
        ""
      ],
      "execution_count": 0,
      "outputs": []
    }
  ]
}